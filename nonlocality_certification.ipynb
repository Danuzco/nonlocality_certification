{
 "cells": [
  {
   "cell_type": "code",
   "execution_count": 1,
   "id": "38966320",
   "metadata": {},
   "outputs": [],
   "source": [
    "from codes_nlc import *\n",
    "    \n",
    "%load_ext autoreload\n",
    "%autoreload 2"
   ]
  },
  {
   "cell_type": "markdown",
   "id": "93313361",
   "metadata": {},
   "source": [
    "### Example using experimental countings for a given concurrence. \n",
    "The experimental countings are saved in the **countings_C[C].txt** file, which is located in the **experimental_data** folder.\n",
    "\n",
    "Each file consists of two columns: \n",
    "1. The labels \"abxy\" \n",
    "2. the countings c(ab|xy)\n",
    "\n",
    "where **a** and **b** are the output's labels for the **x** and **y** settings, respectively. \n",
    "\n",
    "The routine `optimal_value(...)` optimizes the ratio\n",
    "\n",
    "$R=\\max_{s}\\dfrac{\\mathcal{Q}(s)-\\Delta \\mathcal{Q}(s)+(dm)^2}{\\mathcal{C}(s)+(dm)^2}$\n",
    "\n",
    "with **d** the local dimension and **m** the number of settings. The quantum value is given by\n",
    "\n",
    "$\\mathcal{Q} = \\sum\\limits_{x,y = 0}^{m - 1}  \\sum\\limits_{a,b = 0}^{d-1} S_{xy}^{ab} p(ab|xy) + \\sum\\limits_{x = 0}^{m - 1}  \\sum\\limits_{a = 0}^{d-1} S_{x}^{a} p(a|x) + \\sum\\limits_{y = 0}^{m - 1}  \\sum\\limits_{b = 0}^{d-1} S_{y}^{b} p(b|y) $\n",
    "\n",
    "$\\Delta\\mathcal{Q}$ is the experimental error of $\\mathcal{Q}$ and $\\mathcal{C}$ is the classical value. `optimal_value(...)` returns a dictionary containing two keys: \n",
    "1. **coefficients**: a tuple containing the tensors $S_{xy}^{ab}$, $S_{x}^{a}$ and $S_{y}^{b}$\n",
    "2. **Values**: a tuple containing the values $\\mathcal{Q}$, $\\mathcal{C}$, $\\Delta Q$ and ($\\mathcal{Q} - \\Delta Q - \\mathcal{C}$)\n",
    "\n",
    "If the \"*No solution found ...*\" message is displayed, try increasing the number of trials in **num_of_trials**."
   ]
  },
  {
   "cell_type": "code",
   "execution_count": 3,
   "id": "ee7f8157",
   "metadata": {},
   "outputs": [
    {
     "name": "stdout",
     "output_type": "stream",
     "text": [
      "n: number of iterations\n",
      "____________________________________________________________\n",
      "    n       R         Q         C         ΔQ         Gap\n",
      "____________________________________________________________\n",
      "    1    1.00011   0.72587   0.72280    0.00127    0.00180\n",
      "    3    1.00023   0.67745   0.67244    0.00122    0.00379\n",
      "    5    1.00025   0.69389   0.68799    0.00172    0.00417\n"
     ]
    }
   ],
   "source": [
    "m = 2 # number of settings\n",
    "num_of_outcomes = 2\n",
    "marginals_A, marginals_B = [0], []\n",
    "\n",
    "def F(x,y):\n",
    "    return 1/4\n",
    "\n",
    "concurrence = 0.193\n",
    "filename = 'countings_C' + str(concurrence)\n",
    "\n",
    "num_of_trials = 10\n",
    "coefficients = optimal_value(filename, m, num_of_outcomes, num_of_trials, F, \n",
    "                             marginals_A, marginals_B, disp = True, save = True)"
   ]
  },
  {
   "cell_type": "markdown",
   "id": "a7b30c63",
   "metadata": {},
   "source": [
    "In the next cell solutions for several values of concurrence are found and stored in the dict `resultsPerConcurrence`"
   ]
  },
  {
   "cell_type": "code",
   "execution_count": 4,
   "id": "ef4092ec",
   "metadata": {},
   "outputs": [
    {
     "data": {
      "text/plain": [
       "{'Coefficients': (array([[[[ 0.41258341,  0.76114312],\n",
       "           [ 0.43103161, -0.26694336]],\n",
       "  \n",
       "          [[-0.58250084, -0.5058006 ],\n",
       "           [-0.99999521,  1.        ]]],\n",
       "  \n",
       "  \n",
       "         [[[-0.6813933 , -0.63830828],\n",
       "           [ 0.00646994,  0.15761831]],\n",
       "  \n",
       "          [[ 0.75398376,  0.51938272],\n",
       "           [ 0.99970071, -1.        ]]]]),\n",
       "  array([[-0.64982105,  0.        ],\n",
       "         [-0.58641487,  0.        ]]),\n",
       "  array([[0., 0.],\n",
       "         [0., 0.]])),\n",
       " 'values': (0.6938893270171851,\n",
       "  0.6879937255409567,\n",
       "  0.0017240450264491254,\n",
       "  0.00417155644977929)}"
      ]
     },
     "execution_count": 4,
     "metadata": {},
     "output_type": "execute_result"
    }
   ],
   "source": [
    "coefficients"
   ]
  },
  {
   "cell_type": "code",
   "execution_count": 9,
   "id": "dddce8f9",
   "metadata": {},
   "outputs": [
    {
     "name": "stdout",
     "output_type": "stream",
     "text": [
      "Concurrence = 0.193\n",
      "n: number of iterations\n",
      "____________________________________________________________\n",
      "    n       R         Q         C         ΔQ         Gap\n",
      "____________________________________________________________\n",
      "    2    1.00012   1.89656   1.89323    0.00120    0.00214\n",
      "    5    1.00017   1.92328   1.91927    0.00089    0.00311\n",
      "    6    1.00021   1.93116   1.92621    0.00118    0.00377\n",
      "    9    1.00021   1.94040   1.93542    0.00119    0.00379\n",
      "   11    1.00023   1.94254   1.93721    0.00123    0.00410\n",
      "\n",
      "\n",
      "Concurrence = 0.375\n",
      "n: number of iterations\n",
      "____________________________________________________________\n",
      "    n       R         Q         C         ΔQ         Gap\n",
      "____________________________________________________________\n",
      "    2    1.00393   0.53758   0.46968    0.00318    0.06471\n",
      "    3    1.00578   2.30845   2.19698    0.00625    0.10522\n",
      "    4    1.00590   1.70555   1.59574    0.00595    0.10387\n",
      "    5    1.00685   1.13274   1.00888    0.00740    0.11647\n",
      "\n",
      "\n",
      "Concurrence = 0.582\n",
      "n: number of iterations\n",
      "____________________________________________________________\n",
      "    n       R         Q         C         ΔQ         Gap\n",
      "____________________________________________________________\n",
      "    1    1.00209   0.19803   0.16273    0.00158    0.03371\n",
      "    2    1.01359   0.48269   0.25624    0.00559    0.22087\n",
      "    3    1.01536   0.44635   0.19223    0.00535    0.24877\n",
      "    4    1.01610   0.70614   0.43544    0.00604    0.26466\n",
      "    6    1.01690   0.78320   0.49799    0.00636    0.27884\n",
      "    7    1.01810   1.31459   0.99985    0.00707    0.30768\n",
      "\n",
      "\n",
      "Concurrence = 0.835\n",
      "n: number of iterations\n",
      "____________________________________________________________\n",
      "    n       R         Q         C         ΔQ         Gap\n",
      "____________________________________________________________\n",
      "    1    1.02998   2.92591   2.36899    0.00620    0.55072\n",
      "    2    1.03239   1.55402   0.99731    0.00619    0.55051\n",
      "    5    1.03240   1.55700   0.99993    0.00620    0.55087\n",
      "    7    1.03240   1.55701   0.99994    0.00620    0.55087\n",
      "   12    1.03240   1.55708   1.00000    0.00620    0.55088\n",
      "\n",
      "\n",
      "Concurrence = 0.986\n",
      "n: number of iterations\n",
      "____________________________________________________________\n",
      "    n       R         Q         C         ΔQ         Gap\n",
      "____________________________________________________________\n",
      "    1    1.04094   0.38316   -0.26407    0.00303    0.64420\n",
      "    2    1.04753   1.75722   0.94783    0.00379    0.80560\n",
      "    3    1.04798   1.81591   0.99654    0.00384    0.81553\n",
      "    4    1.04801   1.81998   1.00000    0.00384    0.81614\n",
      "\n",
      "\n"
     ]
    }
   ],
   "source": [
    "m = 2 # number of settings\n",
    "num_of_outcomes = 2\n",
    "marginals_A, marginals_B = [0], []\n",
    "num_of_trials = 15\n",
    "\n",
    "resultsPerConcurrence = {}\n",
    "for C in [0.193, 0.375, 0.582,0.835, 0.986]:\n",
    "    filename = 'countings_C' + str(C)\n",
    "    print(f\"Concurrence = {C}\")\n",
    "    resultsPerConcurrence[C] = optimal_value(filename, m, num_of_outcomes, num_of_trials, F, \n",
    "                             marginals_A, marginals_B, disp = True, save = True)\n",
    "    print(\"\\n\")"
   ]
  },
  {
   "cell_type": "code",
   "execution_count": null,
   "id": "98172a88",
   "metadata": {},
   "outputs": [],
   "source": []
  }
 ],
 "metadata": {
  "kernelspec": {
   "display_name": "Python 3",
   "language": "python",
   "name": "python3"
  },
  "language_info": {
   "codemirror_mode": {
    "name": "ipython",
    "version": 3
   },
   "file_extension": ".py",
   "mimetype": "text/x-python",
   "name": "python",
   "nbconvert_exporter": "python",
   "pygments_lexer": "ipython3",
   "version": "3.8.8"
  }
 },
 "nbformat": 4,
 "nbformat_minor": 5
}
