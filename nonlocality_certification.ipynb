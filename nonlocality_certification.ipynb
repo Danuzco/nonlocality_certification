{
 "cells": [
  {
   "cell_type": "code",
   "execution_count": 1,
   "id": "38966320",
   "metadata": {},
   "outputs": [],
   "source": [
    "from codes import *\n",
    "    \n",
    "%load_ext autoreload\n",
    "%autoreload 2"
   ]
  },
  {
   "cell_type": "markdown",
   "id": "93313361",
   "metadata": {},
   "source": [
    "### Example using experimental countings for a given concurrence. \n",
    "The experimental countings are saved in the **countings_C[C].txt** file, which is located in the **experimental_data** folder.\n",
    "\n",
    "Each file consists of two columns: \n",
    "1. The labels \"abxy\" \n",
    "2. the countings c(ab|xy)\n",
    "\n",
    "where **a** and **b** are the output's labels for the **x** and **y** settings, respectively. \n",
    "\n",
    "The routine `optimal_value(...)` optimizes the ratio\n",
    "\n",
    "$R=\\max_{s}\\dfrac{\\mathcal{Q}(s)-\\Delta \\mathcal{Q}(s)+(dm)^2}{\\mathcal{C}(s)+(dm)^2}$\n",
    "\n",
    "with **d** the local dimension and **m** the number of settings. The quantum value is given by\n",
    "\n",
    "$\\mathcal{Q} = \\sum\\limits_{x,y = 0}^{m - 1}  \\sum\\limits_{a,b = 0}^{d-1} S_{xy}^{ab} p(ab|xy) + \\sum\\limits_{x = 0}^{m - 1}  \\sum\\limits_{a = 0}^{d-1} S_{x}^{a} p(a|x) + \\sum\\limits_{y = 0}^{m - 1}  \\sum\\limits_{b = 0}^{d-1} S_{y}^{b} p(b|y) $\n",
    "\n",
    "$\\Delta\\mathcal{Q}$ is the experimental error of $\\mathcal{Q}$ and $\\mathcal{C}$ is the classical value. `optimal_value(...)` returns a dictionary containing two keys: \n",
    "1. **coefficients**: a tuple containing the tensors $S_{xy}^{ab}$, $S_{x}^{a}$ and $S_{y}^{b}$\n",
    "2. **Values**: a tuple containing the values $\\mathcal{Q}$, $\\mathcal{C}$, $\\Delta Q$ and ($\\mathcal{Q} - \\Delta Q - \\mathcal{C}$)\n",
    "\n",
    "If the \"*No solution found ...*\" message is displayed, try increasing the number of trials in **num_of_trials**."
   ]
  },
  {
   "cell_type": "code",
   "execution_count": 2,
   "id": "ee7f8157",
   "metadata": {},
   "outputs": [
    {
     "name": "stdout",
     "output_type": "stream",
     "text": [
      "n: number of iterations\n",
      "____________________________________________________________\n",
      "    n       R         Q         C         ΔQ         Gap\n",
      "____________________________________________________________\n",
      "    1    1.00035   1.14771   1.13806    0.00365    0.00600\n",
      "    7    1.00035   0.96619   0.95802    0.00220    0.00596\n",
      "    8    1.00037   0.96975   0.96053    0.00301    0.00621\n"
     ]
    }
   ],
   "source": [
    "m = 2 # number of settings\n",
    "num_of_outcomes = 2\n",
    "marginals_A, marginals_B = [0], []\n",
    "\n",
    "concurrence = 0.2\n",
    "filename = 'countings_C' + str(concurrence)\n",
    "\n",
    "num_of_trials = 10\n",
    "coefficients = optimal_value(filename, m, num_of_outcomes, num_of_trials, \n",
    "                             marginals_A, marginals_B, disp = True, save = False)"
   ]
  },
  {
   "cell_type": "markdown",
   "id": "a7b30c63",
   "metadata": {},
   "source": [
    "In the next cell solutions for several values of concurrence are found and stored in the dict `resultsPerConcurrence`"
   ]
  },
  {
   "cell_type": "code",
   "execution_count": null,
   "id": "dddce8f9",
   "metadata": {},
   "outputs": [
    {
     "name": "stdout",
     "output_type": "stream",
     "text": [
      "Concurrence = 0.2\n",
      "n: number of iterations\n",
      "____________________________________________________________\n",
      "    n       R         Q         C         ΔQ         Gap\n",
      "____________________________________________________________\n"
     ]
    }
   ],
   "source": [
    "m = 2 # number of settings\n",
    "num_of_outcomes = 2\n",
    "marginals_A, marginals_B = [0], []\n",
    "num_of_trials = 4\n",
    "\n",
    "resultsPerConcurrence = {}\n",
    "for C in [0.2, 0.4, 0.6, 0.8, 1.0]:\n",
    "    filename = 'countings_C' + str(C)\n",
    "    print(f\"Concurrence = {C}\")\n",
    "    resultsPerConcurrence[C] = optimal_value(filename, m, num_of_outcomes, num_of_trials, \n",
    "                             marginals_A, marginals_B, disp = True, save = False)\n",
    "    print(\"\\n\")"
   ]
  },
  {
   "cell_type": "code",
   "execution_count": null,
   "id": "7aef1f1d",
   "metadata": {},
   "outputs": [],
   "source": [
    "## results for concurrence = 0.4\n",
    "print(resultsPerConcurrence[0.4])"
   ]
  },
  {
   "cell_type": "code",
   "execution_count": null,
   "id": "98172a88",
   "metadata": {},
   "outputs": [],
   "source": []
  }
 ],
 "metadata": {
  "kernelspec": {
   "display_name": "Python 3",
   "language": "python",
   "name": "python3"
  },
  "language_info": {
   "codemirror_mode": {
    "name": "ipython",
    "version": 3
   },
   "file_extension": ".py",
   "mimetype": "text/x-python",
   "name": "python",
   "nbconvert_exporter": "python",
   "pygments_lexer": "ipython3",
   "version": "3.8.3"
  }
 },
 "nbformat": 4,
 "nbformat_minor": 5
}
