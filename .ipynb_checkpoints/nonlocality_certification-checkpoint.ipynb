{
 "cells": [
  {
   "cell_type": "code",
   "execution_count": 1,
   "id": "e3b3f737",
   "metadata": {},
   "outputs": [],
   "source": [
    "from codes import *\n",
    "import numpy as np\n",
    "from scipy.optimize import minimize\n",
    "from scipy.optimize import NonlinearConstraint\n",
    "import os\n",
    "cwd = os.getcwd()\n",
    "from datetime import datetime\n",
    "\n",
    "    \n",
    "%load_ext autoreload\n",
    "%autoreload 2"
   ]
  },
  {
   "cell_type": "code",
   "execution_count": 4,
   "id": "18e98320",
   "metadata": {},
   "outputs": [],
   "source": [
    "m = 2 # number of settings\n",
    "num_of_outcomes = 2\n",
    "marginals_A, marginals_B = [0], []\n",
    "\n",
    "concurrence = 0.2\n",
    "filename = 'countings_C' + str(concurrence)\n",
    "p, c, _ = load_data(filename, m, num_of_outcomes, marginals_A, marginals_B)"
   ]
  },
  {
   "cell_type": "code",
   "execution_count": 7,
   "id": "c2e99c07",
   "metadata": {},
   "outputs": [
    {
     "data": {
      "text/plain": [
       "(array([[[[0.97837752, 0.97822363],\n",
       "          [0.49639116, 0.48051709]],\n",
       " \n",
       "         [[0.00959448, 0.0096394 ],\n",
       "          [0.00327599, 0.01741417]]],\n",
       " \n",
       " \n",
       "        [[[0.00149602, 0.00165129],\n",
       "          [0.48258645, 0.49844615]],\n",
       " \n",
       "         [[0.01053198, 0.01048569],\n",
       "          [0.0177464 , 0.00362259]]]]),\n",
       " array([[0.98797199, 0.        ],\n",
       "        [0.01202801, 0.        ]]),\n",
       " array([[0., 0.],\n",
       "        [0., 0.]]))"
      ]
     },
     "execution_count": 7,
     "metadata": {},
     "output_type": "execute_result"
    }
   ],
   "source": [
    "s0, bounds = initial_guess(m, num_of_outcomes, marginals_A, marginals_B) # initial guess for the optimizer\n",
    "    \n",
    "\n",
    "n, previous, target = 1, 1, 1\n",
    "nlc = NonlinearConstraint( lambda x: -target  + R( x, p, Dp, num_of_parties, m, num_of_outcomes ), \n",
    "                                  -np.inf, target )\n",
    "\n",
    "num_of_trials = 500\n",
    "\n",
    "while n <= num_of_trials:\n",
    "    res = minimize(R , s0 ,  args=(p, Dp, num_of_parties, m, num_of_outcomes ), method='SLSQP', \n",
    "                    tol = 1e-20, options={ 'ftol':1e-10, 'maxiter':1000, 'disp': False}, \n",
    "                    bounds=bounds, constraints=[nlc])\n",
    "\n",
    "    s0 = (res.x + s0)/2 \n",
    "    if  res.fun < previous:\n",
    "        solution = res\n",
    "        coeff = solution.x\n",
    "        target, previous =  -res.fun - 1e-4, res.fun\n",
    "        np.savez(npy_filename, solution.x)\n",
    "        nlc = NonlinearConstraint( lambda x: -target  + R( x, p,Dp, num_of_parties, m, num_of_outcomes ), \n",
    "                                  -np.inf, target )\n",
    "        q_opt, c_opt, Dp_opt, s_opt = results( solution.x, p, Dp , num_of_parties, m, num_of_outcomes)\n",
    "        gap = q_opt - Dp_opt - c_opt\n",
    "        if n > 1:\n",
    "            f.write(\"\\n\\n\")\n",
    "            f.flush()\n",
    "        coeff = coeff[np.nonzero(coeff)]\n",
    "        for item in coeff:\n",
    "            f.write(\"%f\\t\" % item)\n",
    "            f.flush()\n",
    "        print( \"%5d    %4.5f   %4.5f   %4.5f    %4.5f    %4.5f\" %(n, -solution.fun, q_opt, Dp_opt, c_opt, gap) )    \n",
    "    else:\n",
    "        s0, bounds = initial_guess(m, num_of_outcomes, num_of_parties)\n",
    "        \n",
    "    n += 1\n",
    "\n",
    "f.close()"
   ]
  },
  {
   "cell_type": "code",
   "execution_count": null,
   "id": "f00351f6",
   "metadata": {},
   "outputs": [],
   "source": []
  }
 ],
 "metadata": {
  "kernelspec": {
   "display_name": "Python 3",
   "language": "python",
   "name": "python3"
  },
  "language_info": {
   "codemirror_mode": {
    "name": "ipython",
    "version": 3
   },
   "file_extension": ".py",
   "mimetype": "text/x-python",
   "name": "python",
   "nbconvert_exporter": "python",
   "pygments_lexer": "ipython3",
   "version": "3.8.3"
  }
 },
 "nbformat": 4,
 "nbformat_minor": 5
}
